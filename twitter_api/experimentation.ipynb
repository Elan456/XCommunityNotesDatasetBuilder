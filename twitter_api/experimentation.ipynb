{
 "cells": [
  {
   "cell_type": "code",
   "execution_count": 1,
   "metadata": {},
   "outputs": [],
   "source": [
    "from collector import TwitterCollector\n",
    "import json \n",
    "api_key = open(\"bearer.key\", \"r\").read()\n",
    "collector = TwitterCollector(api_key)\n",
    "\n",
    "# multi_example is a list of dictionaries\n",
    "multi_example = collector.get_tweets([\"1772726192967156095\", \"1749149256659702157\", \"1625074552823857152\"])\n",
    "\n"
   ]
  },
  {
   "cell_type": "code",
   "execution_count": 2,
   "metadata": {},
   "outputs": [
    {
     "name": "stdout",
     "output_type": "stream",
     "text": [
      "[{'id': 1772726192967156095, 'text': '“Allah Akbar and f*ck Jesus”, they wrote on church in France. They hate us. https://t.co/HPUqmywXyl', 'date': '2024-03-26 20:43:54', 'author_id': 1429400366819512323, 'author_name': 'RadioGenoa', 'author_username': 'RadioGenoa', 'retweet_count': 3222, 'hashtags': [], 'mentions': [], 'image_urls': ['https://pbs.twimg.com/media/GJn9Ef7WEAAI5Yx.jpg'], 'tweet_url': 'https://twitter.com/RadioGenoa/status/1772726192967156095'}, {'id': 1749149256659702157, 'text': 'Beautiful🔥\\n\\nBOYCOTT child killers!!🩸🩸\\n\\n#BoycottMcDonalds 🍟\\n\\n@ShaykhSulaiman https://t.co/qvwGpbOHnK', 'date': '2024-01-21 19:17:35', 'author_id': 1446231057259433988, 'author_name': 'Dr. Anastasia Maria Loupis', 'author_username': 'DrLoupis', 'retweet_count': 2854, 'hashtags': ['BoycottMcDonalds'], 'mentions': ['ShaykhSulaiman'], 'image_urls': ['https://pbs.twimg.com/media/GEY5-fCWUAAhNW7.jpg'], 'tweet_url': 'https://twitter.com/DrLoupis/status/1749149256659702157'}]\n"
     ]
    }
   ],
   "source": [
    "print(multi_example)\n",
    "# Save as json\n",
    "with open(\"multi_example.json\", \"w\") as f:\n",
    "    json.dump(multi_example, f, indent=4)"
   ]
  },
  {
   "cell_type": "code",
   "execution_count": 4,
   "metadata": {},
   "outputs": [],
   "source": [
    "from collector import TwitterCollector\n",
    "import pandas as pd \n",
    "import json \n",
    "\n",
    "api_key = open(\"bearer.key\", \"r\").read()      \n",
    "collector = TwitterCollector(api_key)\n",
    "\n",
    "output_file = \"missing_important_context_tweets_could_have_misleading_images.json\"\n",
    "input_file = \"../notes-sample-filtered.tsv\"\n",
    "\n",
    "# Load all the already captured tweet ids from the file\n",
    "captured_tweet_ids = set()\n",
    "with open(output_file, \"a+\") as f:\n",
    "    try:\n",
    "        already_captured = json.load(f)\n",
    "        print(already_captured)\n",
    "    except json.JSONDecodeError:  # Empty file\n",
    "        already_captured = []\n",
    "    for tweet in already_captured:\n",
    "        captured_tweet_ids.add(tweet[\"id\"])\n"
   ]
  },
  {
   "cell_type": "code",
   "execution_count": 5,
   "metadata": {},
   "outputs": [],
   "source": [
    "# Load the input file tsv as a pandas dataframe and get each id from the tweetId column\n",
    "df = pd.read_csv(input_file, sep=\"\\t\")\n",
    "tweet_ids = df[\"tweetId\"].astype(str).tolist()"
   ]
  },
  {
   "cell_type": "code",
   "execution_count": null,
   "metadata": {},
   "outputs": [
    {
     "name": "stdout",
     "output_type": "stream",
     "text": [
      "Num of tweet_ids: 2173\n",
      "Num of tweet_ids after removing captured: 2173\n",
      "Saving 76 tweets to missing_important_context_tweets_could_have_misleading_images.json\n",
      "Sleeping for 1 minute. Requests made: 1, Elapsed minutes: 0.012646158536275228\n",
      "Saving 84 tweets to missing_important_context_tweets_could_have_misleading_images.json\n",
      "Sleeping for 1 minute. Requests made: 2, Elapsed minutes: 1.023540472984314\n"
     ]
    }
   ],
   "source": [
    "collector = TwitterCollector(api_key)\n",
    "\n",
    "print(\"Num of tweet_ids:\", len(tweet_ids))\n",
    "tweet_ids = [tweet for tweet in tweet_ids if tweet not in captured_tweet_ids]\n",
    "print(\"Num of tweet_ids after removing captured:\", len(tweet_ids))\n",
    "# Get the tweets that are not already captured\n",
    "for tweets in collector.get_tweets([tweet_id for tweet_id in tweet_ids if tweet_id not in captured_tweet_ids]):\n",
    "    print(f\"Saving {len(tweets)} tweets to {output_file}\")\n",
    "    # Write the tweets to the output file\n",
    "    # Tweets is a list of dictionaries\n",
    "    \n",
    "    # Try to load the current output file, and then append the new tweets to it\n",
    "    all_tweets = []\n",
    "    with open(output_file, \"r\") as f:\n",
    "        try:\n",
    "            already_captured = json.load(f)\n",
    "        except json.JSONDecodeError:  # Empty file\n",
    "            already_captured = []\n",
    "        all_tweets = already_captured + tweets\n",
    "\n",
    "    with open(output_file, \"w\") as f:\n",
    "        json.dump(all_tweets, f, indent=4)"
   ]
  }
 ],
 "metadata": {
  "kernelspec": {
   "display_name": ".venv",
   "language": "python",
   "name": "python3"
  },
  "language_info": {
   "codemirror_mode": {
    "name": "ipython",
    "version": 3
   },
   "file_extension": ".py",
   "mimetype": "text/x-python",
   "name": "python",
   "nbconvert_exporter": "python",
   "pygments_lexer": "ipython3",
   "version": "3.11.5"
  }
 },
 "nbformat": 4,
 "nbformat_minor": 2
}
